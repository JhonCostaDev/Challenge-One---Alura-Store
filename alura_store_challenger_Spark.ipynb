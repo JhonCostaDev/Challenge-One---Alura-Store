{
 "cells": [
  {
   "cell_type": "markdown",
   "metadata": {
    "application/vnd.databricks.v1+cell": {
     "cellMetadata": {},
     "inputWidgets": {},
     "nuid": "1f4fcd09-19d7-4c6f-9740-285cccc37f86",
     "showTitle": false,
     "tableResultSettingsMap": {},
     "title": ""
    }
   },
   "source": [
    "## Boas vindas ao primeiro desafio!\n",
    "\n",
    "Durante este desafio, você irá ajudar o Senhor João a decidir qual loja da sua rede Alura Store vender para iniciar um novo empreendimento. Para isso, você analisará dados de vendas, desempenho e avaliações das 4 lojas fictícias da Alura Store. O objetivo é identificar a loja com menor eficiência e apresentar uma recomendação final baseada nos dados.\n",
    "\n",
    "##O que você vai praticar:\n",
    "\n",
    "* Carregar e manipular dados CSV com a biblioteca Pandas .\n",
    "\n",
    "* Criar visualizações de dados com biblioteca Matplotlib.\n",
    "\n",
    "* Analisar métricas como faturamento, avaliações e desempenho de vendas.\n",
    "\n",
    "## Requisitos:\n",
    "\n",
    "1. Analisar os dados das lojas:\n",
    "\n",
    "  * Você deve avaliar informações como faturamento, categorias mais vendidas, avaliações dos clientes, produtos mais vendidos e frete médio.\n",
    "\n",
    "2. Criar gráficos para visualização:\n",
    "\n",
    "  * Decida quais tipos de gráficos usar para apresentar os resultados de maneira clara e visual.\n",
    "\n",
    "3. Mínimo de 3 gráficos diferentes, que podem incluir gráficos de barras, pizza, dispersão, entre outros.\n",
    "\n",
    "4. Apresentar uma recomendação:\n",
    "\n",
    "  * Após as análises, escreva um texto explicando qual loja o Senhor João deve vender e por quê, com base nos dados apresentados.\n",
    "\n",
    "Bom projeto!"
   ]
  },
  {
   "cell_type": "code",
   "execution_count": 0,
   "metadata": {
    "application/vnd.databricks.v1+cell": {
     "cellMetadata": {
      "byteLimit": 2048000,
      "rowLimit": 10000
     },
     "inputWidgets": {},
     "nuid": "53ab4c13-b21e-4a14-be08-6383ab89bcc8",
     "showTitle": false,
     "tableResultSettingsMap": {},
     "title": ""
    }
   },
   "outputs": [],
   "source": [
    "import pandas as pd\n",
    "import numpy as np\n",
    "import matplotlib.pyplot as plt\n",
    "from pyspark.sql import SparkSession\n",
    "from pyspark.sql.functions import col, sum, count, avg\n",
    "from functools import reduce"
   ]
  },
  {
   "cell_type": "code",
   "execution_count": 0,
   "metadata": {
    "application/vnd.databricks.v1+cell": {
     "cellMetadata": {
      "byteLimit": 2048000,
      "rowLimit": 10000
     },
     "inputWidgets": {},
     "nuid": "0d07f165-6c37-449a-860c-b9074a284fb6",
     "showTitle": false,
     "tableResultSettingsMap": {},
     "title": ""
    }
   },
   "outputs": [],
   "source": [
    "\n",
    "urls = \"https://raw.githubusercontent.com/alura-es-cursos/challenge1-data-science/refs/heads/main/base-de-dados-challenge-1/loja_1.csv\", \"https://raw.githubusercontent.com/alura-es-cursos/challenge1-data-science/refs/heads/main/base-de-dados-challenge-1/loja_2.csv\", \"https://raw.githubusercontent.com/alura-es-cursos/challenge1-data-science/refs/heads/main/base-de-dados-challenge-1/loja_3.csv\", \"https://raw.githubusercontent.com/alura-es-cursos/challenge1-data-science/refs/heads/main/base-de-dados-challenge-1/loja_4.csv\"\n",
    "\n",
    "stores_name = ['loja_1', 'loja_2', 'loja_3', 'loja_4',]"
   ]
  },
  {
   "cell_type": "code",
   "execution_count": 0,
   "metadata": {
    "application/vnd.databricks.v1+cell": {
     "cellMetadata": {
      "byteLimit": 2048000,
      "rowLimit": 10000
     },
     "inputWidgets": {},
     "nuid": "e6a31e7a-bda3-4d6a-a2a1-036a7f7f4454",
     "showTitle": false,
     "tableResultSettingsMap": {},
     "title": ""
    }
   },
   "outputs": [
    {
     "output_type": "stream",
     "name": "stdout",
     "output_type": "stream",
     "text": [
      "root\n |-- Produto: string (nullable = true)\n |-- Categoria do Produto: string (nullable = true)\n |-- Preço: double (nullable = true)\n |-- Frete: double (nullable = true)\n |-- Data da Compra: string (nullable = true)\n |-- Vendedor: string (nullable = true)\n |-- Local da compra: string (nullable = true)\n |-- Avaliação da compra: long (nullable = true)\n |-- Tipo de pagamento: string (nullable = true)\n |-- Quantidade de parcelas: long (nullable = true)\n |-- lat: double (nullable = true)\n |-- lon: double (nullable = true)\n\nroot\n |-- Produto: string (nullable = true)\n |-- Categoria do Produto: string (nullable = true)\n |-- Preço: double (nullable = true)\n |-- Frete: double (nullable = true)\n |-- Data da Compra: string (nullable = true)\n |-- Vendedor: string (nullable = true)\n |-- Local da compra: string (nullable = true)\n |-- Avaliação da compra: long (nullable = true)\n |-- Tipo de pagamento: string (nullable = true)\n |-- Quantidade de parcelas: long (nullable = true)\n |-- lat: double (nullable = true)\n |-- lon: double (nullable = true)\n\nroot\n |-- Produto: string (nullable = true)\n |-- Categoria do Produto: string (nullable = true)\n |-- Preço: double (nullable = true)\n |-- Frete: double (nullable = true)\n |-- Data da Compra: string (nullable = true)\n |-- Vendedor: string (nullable = true)\n |-- Local da compra: string (nullable = true)\n |-- Avaliação da compra: long (nullable = true)\n |-- Tipo de pagamento: string (nullable = true)\n |-- Quantidade de parcelas: long (nullable = true)\n |-- lat: double (nullable = true)\n |-- lon: double (nullable = true)\n\nroot\n |-- Produto: string (nullable = true)\n |-- Categoria do Produto: string (nullable = true)\n |-- Preço: double (nullable = true)\n |-- Frete: double (nullable = true)\n |-- Data da Compra: string (nullable = true)\n |-- Vendedor: string (nullable = true)\n |-- Local da compra: string (nullable = true)\n |-- Avaliação da compra: long (nullable = true)\n |-- Tipo de pagamento: string (nullable = true)\n |-- Quantidade de parcelas: long (nullable = true)\n |-- lat: double (nullable = true)\n |-- lon: double (nullable = true)\n\n"
     ]
    }
   ],
   "source": [
    "#load df pandas \n",
    "dfs_pandas = [pd.read_csv(url) for url in urls]\n",
    "\n",
    "# Transform df pandas to df spark\n",
    "dfs_spark = [spark.createDataFrame(df) for df in dfs_pandas]\n",
    "\n",
    "# Show schemas\n",
    "for df in dfs_spark:\n",
    "    df.printSchema()"
   ]
  },
  {
   "cell_type": "markdown",
   "metadata": {
    "application/vnd.databricks.v1+cell": {
     "cellMetadata": {},
     "inputWidgets": {},
     "nuid": "5d3001f1-5ec1-4dfc-9232-7e7260dd700c",
     "showTitle": false,
     "tableResultSettingsMap": {},
     "title": ""
    }
   },
   "source": [
    "## Verificando nulos"
   ]
  },
  {
   "cell_type": "code",
   "execution_count": 0,
   "metadata": {
    "application/vnd.databricks.v1+cell": {
     "cellMetadata": {
      "byteLimit": 2048000,
      "rowLimit": 10000
     },
     "inputWidgets": {},
     "nuid": "8102d944-0712-4890-ba3a-20929f0ce67e",
     "showTitle": false,
     "tableResultSettingsMap": {},
     "title": ""
    }
   },
   "outputs": [
    {
     "output_type": "stream",
     "name": "stdout",
     "output_type": "stream",
     "text": [
      "+-------+--------------------+-----+-----+--------------+--------+---------------+-------------------+-----------------+----------------------+---+---+\n|Produto|Categoria do Produto|Preço|Frete|Data da Compra|Vendedor|Local da compra|Avaliação da compra|Tipo de pagamento|Quantidade de parcelas|lat|lon|\n+-------+--------------------+-----+-----+--------------+--------+---------------+-------------------+-----------------+----------------------+---+---+\n|      0|                   0|    0|    0|             0|       0|              0|                  0|                0|                     0|  0|  0|\n+-------+--------------------+-----+-----+--------------+--------+---------------+-------------------+-----------------+----------------------+---+---+\n\n+-------+--------------------+-----+-----+--------------+--------+---------------+-------------------+-----------------+----------------------+---+---+\n|Produto|Categoria do Produto|Preço|Frete|Data da Compra|Vendedor|Local da compra|Avaliação da compra|Tipo de pagamento|Quantidade de parcelas|lat|lon|\n+-------+--------------------+-----+-----+--------------+--------+---------------+-------------------+-----------------+----------------------+---+---+\n|      0|                   0|    0|    0|             0|       0|              0|                  0|                0|                     0|  0|  0|\n+-------+--------------------+-----+-----+--------------+--------+---------------+-------------------+-----------------+----------------------+---+---+\n\n+-------+--------------------+-----+-----+--------------+--------+---------------+-------------------+-----------------+----------------------+---+---+\n|Produto|Categoria do Produto|Preço|Frete|Data da Compra|Vendedor|Local da compra|Avaliação da compra|Tipo de pagamento|Quantidade de parcelas|lat|lon|\n+-------+--------------------+-----+-----+--------------+--------+---------------+-------------------+-----------------+----------------------+---+---+\n|      0|                   0|    0|    0|             0|       0|              0|                  0|                0|                     0|  0|  0|\n+-------+--------------------+-----+-----+--------------+--------+---------------+-------------------+-----------------+----------------------+---+---+\n\n+-------+--------------------+-----+-----+--------------+--------+---------------+-------------------+-----------------+----------------------+---+---+\n|Produto|Categoria do Produto|Preço|Frete|Data da Compra|Vendedor|Local da compra|Avaliação da compra|Tipo de pagamento|Quantidade de parcelas|lat|lon|\n+-------+--------------------+-----+-----+--------------+--------+---------------+-------------------+-----------------+----------------------+---+---+\n|      0|                   0|    0|    0|             0|       0|              0|                  0|                0|                     0|  0|  0|\n+-------+--------------------+-----+-----+--------------+--------+---------------+-------------------+-----------------+----------------------+---+---+\n\n"
     ]
    }
   ],
   "source": [
    "\n",
    "for df in dfs_spark:\n",
    "  df.select([sum(col(c).isNull().cast(\"int\")).alias(c) for c in df.columns]).show()\n"
   ]
  },
  {
   "cell_type": "markdown",
   "metadata": {
    "application/vnd.databricks.v1+cell": {
     "cellMetadata": {},
     "inputWidgets": {},
     "nuid": "9ee2398b-bc67-4c09-9e95-08b7f4f7257b",
     "showTitle": false,
     "tableResultSettingsMap": {},
     "title": ""
    }
   },
   "source": [
    "## Exibindo uma amostra de um dos dataframe"
   ]
  },
  {
   "cell_type": "code",
   "execution_count": 0,
   "metadata": {
    "application/vnd.databricks.v1+cell": {
     "cellMetadata": {
      "byteLimit": 2048000,
      "rowLimit": 10000
     },
     "inputWidgets": {},
     "nuid": "0068d181-77b2-424d-99ab-c8f8a77ad83d",
     "showTitle": false,
     "tableResultSettingsMap": {},
     "title": ""
    }
   },
   "outputs": [
    {
     "output_type": "execute_result",
     "data": {
      "text/plain": [
       "[['Produto',\n",
       "  'Categoria do Produto',\n",
       "  'Preço',\n",
       "  'Frete',\n",
       "  'Data da Compra',\n",
       "  'Vendedor',\n",
       "  'Local da compra',\n",
       "  'Avaliação da compra',\n",
       "  'Tipo de pagamento',\n",
       "  'Quantidade de parcelas',\n",
       "  'lat',\n",
       "  'lon'],\n",
       " ['Produto',\n",
       "  'Categoria do Produto',\n",
       "  'Preço',\n",
       "  'Frete',\n",
       "  'Data da Compra',\n",
       "  'Vendedor',\n",
       "  'Local da compra',\n",
       "  'Avaliação da compra',\n",
       "  'Tipo de pagamento',\n",
       "  'Quantidade de parcelas',\n",
       "  'lat',\n",
       "  'lon'],\n",
       " ['Produto',\n",
       "  'Categoria do Produto',\n",
       "  'Preço',\n",
       "  'Frete',\n",
       "  'Data da Compra',\n",
       "  'Vendedor',\n",
       "  'Local da compra',\n",
       "  'Avaliação da compra',\n",
       "  'Tipo de pagamento',\n",
       "  'Quantidade de parcelas',\n",
       "  'lat',\n",
       "  'lon'],\n",
       " ['Produto',\n",
       "  'Categoria do Produto',\n",
       "  'Preço',\n",
       "  'Frete',\n",
       "  'Data da Compra',\n",
       "  'Vendedor',\n",
       "  'Local da compra',\n",
       "  'Avaliação da compra',\n",
       "  'Tipo de pagamento',\n",
       "  'Quantidade de parcelas',\n",
       "  'lat',\n",
       "  'lon']]"
      ]
     },
     "execution_count": 7,
     "metadata": {},
     "output_type": "execute_result"
    }
   ],
   "source": [
    "# Exibindo as colunas do df\n",
    "[df.columns for df in dfs_spark]"
   ]
  },
  {
   "cell_type": "code",
   "execution_count": 0,
   "metadata": {
    "application/vnd.databricks.v1+cell": {
     "cellMetadata": {
      "byteLimit": 2048000,
      "rowLimit": 10000
     },
     "inputWidgets": {},
     "nuid": "6c94fd51-f3fd-46a1-a4f9-a3dd1cf1c6df",
     "showTitle": false,
     "tableResultSettingsMap": {},
     "title": ""
    }
   },
   "outputs": [
    {
     "output_type": "display_data",
     "data": {
      "text/html": [
       "<style scoped>\n",
       "  .table-result-container {\n",
       "    max-height: 300px;\n",
       "    overflow: auto;\n",
       "  }\n",
       "  table, th, td {\n",
       "    border: 1px solid black;\n",
       "    border-collapse: collapse;\n",
       "  }\n",
       "  th, td {\n",
       "    padding: 5px;\n",
       "  }\n",
       "  th {\n",
       "    text-align: left;\n",
       "  }\n",
       "</style><div class='table-result-container'><table class='table-result'><thead style='background-color: white'><tr><th>Produto</th><th>Categoria do Produto</th><th>Preço</th><th>Frete</th><th>Data da Compra</th><th>Vendedor</th><th>Local da compra</th><th>Avaliação da compra</th><th>Tipo de pagamento</th><th>Quantidade de parcelas</th><th>lat</th><th>lon</th></tr></thead><tbody><tr><td>Jogo de tabuleiro</td><td>brinquedos</td><td>279.51</td><td>21.2626809863</td><td>15/03/2021</td><td>João Souza</td><td>DF</td><td>1</td><td>cartao_credito</td><td>1</td><td>-15.83</td><td>-47.86</td></tr><tr><td>Carrinho controle remoto</td><td>brinquedos</td><td>112.75</td><td>6.5347028276</td><td>02/11/2021</td><td>Pedro Gomes</td><td>RJ</td><td>5</td><td>cartao_credito</td><td>1</td><td>-22.25</td><td>-42.66</td></tr><tr><td>Smartwatch</td><td>eletronicos</td><td>206.98</td><td>8.605501387</td><td>16/01/2022</td><td>Isabella Pereira</td><td>MG</td><td>5</td><td>cartao_credito</td><td>5</td><td>-18.1</td><td>-44.38</td></tr><tr><td>Corda de pular</td><td>esporte e lazer</td><td>26.96</td><td>0.0</td><td>16/03/2023</td><td>Larissa Alves</td><td>SP</td><td>4</td><td>cartao_credito</td><td>3</td><td>-22.19</td><td>-48.79</td></tr><tr><td>Assistente virtual</td><td>eletronicos</td><td>369.18</td><td>17.2421634239</td><td>11/12/2021</td><td>João Souza</td><td>MG</td><td>5</td><td>cartao_credito</td><td>3</td><td>-18.1</td><td>-44.38</td></tr><tr><td>Poltrona</td><td>moveis</td><td>251.37</td><td>10.969135344</td><td>01/02/2022</td><td>Isabella Pereira</td><td>AL</td><td>4</td><td>boleto</td><td>1</td><td>-9.62</td><td>-36.82</td></tr><tr><td>Guarda roupas</td><td>moveis</td><td>684.74</td><td>34.044784092</td><td>24/04/2022</td><td>Rafael Costa</td><td>SP</td><td>5</td><td>cupom</td><td>1</td><td>-22.19</td><td>-48.79</td></tr><tr><td>Corda de pular</td><td>esporte e lazer</td><td>14.01</td><td>0.0</td><td>09/09/2020</td><td>Beatriz Moraes</td><td>SP</td><td>5</td><td>cartao_credito</td><td>1</td><td>-22.19</td><td>-48.79</td></tr><tr><td>Pandeiro</td><td>instrumentos musicais</td><td>74.44</td><td>4.2468319632</td><td>01/12/2021</td><td>Felipe Santos</td><td>MA</td><td>5</td><td>boleto</td><td>1</td><td>-5.42</td><td>-45.44</td></tr><tr><td>Modelagem preditiva</td><td>livros</td><td>73.05</td><td>1.4741318025</td><td>27/06/2022</td><td>Pedro Gomes</td><td>SP</td><td>4</td><td>cartao_credito</td><td>2</td><td>-22.19</td><td>-48.79</td></tr><tr><td>Geladeira</td><td>eletrodomesticos</td><td>1904.12</td><td>102.2770768133</td><td>20/04/2022</td><td>Mariana Ferreira</td><td>GO</td><td>5</td><td>boleto</td><td>1</td><td>-15.98</td><td>-49.86</td></tr><tr><td>Dashboards com Power BI</td><td>livros</td><td>51.18</td><td>3.4121931805</td><td>09/04/2021</td><td>Thiago Silva</td><td>BA</td><td>1</td><td>cartao_credito</td><td>3</td><td>-13.29</td><td>-41.71</td></tr><tr><td>Fogão</td><td>eletrodomesticos</td><td>897.94</td><td>45.3970427004</td><td>29/01/2023</td><td>Juliana Costa</td><td>MT</td><td>5</td><td>cartao_credito</td><td>5</td><td>-12.64</td><td>-55.42</td></tr><tr><td>Fogão</td><td>eletrodomesticos</td><td>502.22</td><td>27.0304809317</td><td>22/06/2021</td><td>Beatriz Moraes</td><td>MG</td><td>5</td><td>cartao_credito</td><td>6</td><td>-18.1</td><td>-44.38</td></tr><tr><td>Dashboards com Power BI</td><td>livros</td><td>41.45</td><td>2.8940999522</td><td>08/02/2020</td><td>Lucas Oliveira</td><td>SP</td><td>5</td><td>cartao_credito</td><td>1</td><td>-22.19</td><td>-48.79</td></tr><tr><td>Celular Plus X42</td><td>eletronicos</td><td>3270.51</td><td>181.9428695945</td><td>30/03/2022</td><td>Felipe Santos</td><td>MG</td><td>5</td><td>cartao_credito</td><td>1</td><td>-18.1</td><td>-44.38</td></tr><tr><td>Cubo mágico 8x8</td><td>brinquedos</td><td>28.86</td><td>2.4765560096</td><td>11/01/2022</td><td>Camila Ribeiro</td><td>RJ</td><td>3</td><td>cartao_credito</td><td>1</td><td>-22.25</td><td>-42.66</td></tr><tr><td>Smartwatch</td><td>eletronicos</td><td>204.81</td><td>8.4899554152</td><td>18/07/2021</td><td>Larissa Alves</td><td>SP</td><td>5</td><td>cartao_credito</td><td>1</td><td>-22.19</td><td>-48.79</td></tr><tr><td>Smart TV</td><td>eletronicos</td><td>2355.32</td><td>122.998143313</td><td>30/06/2020</td><td>João Souza</td><td>RJ</td><td>4</td><td>cartao_credito</td><td>5</td><td>-22.25</td><td>-42.66</td></tr></tbody></table></div>"
      ]
     },
     "metadata": {
      "application/vnd.databricks.v1+output": {
       "addedWidgets": {},
       "aggData": [],
       "aggError": "",
       "aggOverflow": false,
       "aggSchema": [],
       "aggSeriesLimitReached": false,
       "aggType": "",
       "arguments": {},
       "columnCustomDisplayInfos": {},
       "data": [
        [
         "Jogo de tabuleiro",
         "brinquedos",
         279.51,
         21.2626809863,
         "15/03/2021",
         "João Souza",
         "DF",
         1,
         "cartao_credito",
         1,
         -15.83,
         -47.86
        ],
        [
         "Carrinho controle remoto",
         "brinquedos",
         112.75,
         6.5347028276,
         "02/11/2021",
         "Pedro Gomes",
         "RJ",
         5,
         "cartao_credito",
         1,
         -22.25,
         -42.66
        ],
        [
         "Smartwatch",
         "eletronicos",
         206.98,
         8.605501387,
         "16/01/2022",
         "Isabella Pereira",
         "MG",
         5,
         "cartao_credito",
         5,
         -18.1,
         -44.38
        ],
        [
         "Corda de pular",
         "esporte e lazer",
         26.96,
         0.0,
         "16/03/2023",
         "Larissa Alves",
         "SP",
         4,
         "cartao_credito",
         3,
         -22.19,
         -48.79
        ],
        [
         "Assistente virtual",
         "eletronicos",
         369.18,
         17.2421634239,
         "11/12/2021",
         "João Souza",
         "MG",
         5,
         "cartao_credito",
         3,
         -18.1,
         -44.38
        ],
        [
         "Poltrona",
         "moveis",
         251.37,
         10.969135344,
         "01/02/2022",
         "Isabella Pereira",
         "AL",
         4,
         "boleto",
         1,
         -9.62,
         -36.82
        ],
        [
         "Guarda roupas",
         "moveis",
         684.74,
         34.044784092,
         "24/04/2022",
         "Rafael Costa",
         "SP",
         5,
         "cupom",
         1,
         -22.19,
         -48.79
        ],
        [
         "Corda de pular",
         "esporte e lazer",
         14.01,
         0.0,
         "09/09/2020",
         "Beatriz Moraes",
         "SP",
         5,
         "cartao_credito",
         1,
         -22.19,
         -48.79
        ],
        [
         "Pandeiro",
         "instrumentos musicais",
         74.44,
         4.2468319632,
         "01/12/2021",
         "Felipe Santos",
         "MA",
         5,
         "boleto",
         1,
         -5.42,
         -45.44
        ],
        [
         "Modelagem preditiva",
         "livros",
         73.05,
         1.4741318025,
         "27/06/2022",
         "Pedro Gomes",
         "SP",
         4,
         "cartao_credito",
         2,
         -22.19,
         -48.79
        ],
        [
         "Geladeira",
         "eletrodomesticos",
         1904.12,
         102.2770768133,
         "20/04/2022",
         "Mariana Ferreira",
         "GO",
         5,
         "boleto",
         1,
         -15.98,
         -49.86
        ],
        [
         "Dashboards com Power BI",
         "livros",
         51.18,
         3.4121931805,
         "09/04/2021",
         "Thiago Silva",
         "BA",
         1,
         "cartao_credito",
         3,
         -13.29,
         -41.71
        ],
        [
         "Fogão",
         "eletrodomesticos",
         897.94,
         45.3970427004,
         "29/01/2023",
         "Juliana Costa",
         "MT",
         5,
         "cartao_credito",
         5,
         -12.64,
         -55.42
        ],
        [
         "Fogão",
         "eletrodomesticos",
         502.22,
         27.0304809317,
         "22/06/2021",
         "Beatriz Moraes",
         "MG",
         5,
         "cartao_credito",
         6,
         -18.1,
         -44.38
        ],
        [
         "Dashboards com Power BI",
         "livros",
         41.45,
         2.8940999522,
         "08/02/2020",
         "Lucas Oliveira",
         "SP",
         5,
         "cartao_credito",
         1,
         -22.19,
         -48.79
        ],
        [
         "Celular Plus X42",
         "eletronicos",
         3270.51,
         181.9428695945,
         "30/03/2022",
         "Felipe Santos",
         "MG",
         5,
         "cartao_credito",
         1,
         -18.1,
         -44.38
        ],
        [
         "Cubo mágico 8x8",
         "brinquedos",
         28.86,
         2.4765560096,
         "11/01/2022",
         "Camila Ribeiro",
         "RJ",
         3,
         "cartao_credito",
         1,
         -22.25,
         -42.66
        ],
        [
         "Smartwatch",
         "eletronicos",
         204.81,
         8.4899554152,
         "18/07/2021",
         "Larissa Alves",
         "SP",
         5,
         "cartao_credito",
         1,
         -22.19,
         -48.79
        ],
        [
         "Smart TV",
         "eletronicos",
         2355.32,
         122.998143313,
         "30/06/2020",
         "João Souza",
         "RJ",
         4,
         "cartao_credito",
         5,
         -22.25,
         -42.66
        ]
       ],
       "datasetInfos": [],
       "dbfsResultPath": null,
       "isJsonSchema": true,
       "metadata": {},
       "overflow": false,
       "plotOptions": {
        "customPlotOptions": {},
        "displayType": "table",
        "pivotAggregation": null,
        "pivotColumns": null,
        "xColumns": null,
        "yColumns": null
       },
       "removedWidgets": [],
       "schema": [
        {
         "metadata": "{}",
         "name": "Produto",
         "type": "\"string\""
        },
        {
         "metadata": "{}",
         "name": "Categoria do Produto",
         "type": "\"string\""
        },
        {
         "metadata": "{}",
         "name": "Preço",
         "type": "\"double\""
        },
        {
         "metadata": "{}",
         "name": "Frete",
         "type": "\"double\""
        },
        {
         "metadata": "{}",
         "name": "Data da Compra",
         "type": "\"string\""
        },
        {
         "metadata": "{}",
         "name": "Vendedor",
         "type": "\"string\""
        },
        {
         "metadata": "{}",
         "name": "Local da compra",
         "type": "\"string\""
        },
        {
         "metadata": "{}",
         "name": "Avaliação da compra",
         "type": "\"long\""
        },
        {
         "metadata": "{}",
         "name": "Tipo de pagamento",
         "type": "\"string\""
        },
        {
         "metadata": "{}",
         "name": "Quantidade de parcelas",
         "type": "\"long\""
        },
        {
         "metadata": "{}",
         "name": "lat",
         "type": "\"double\""
        },
        {
         "metadata": "{}",
         "name": "lon",
         "type": "\"double\""
        }
       ],
       "type": "table"
      }
     },
     "output_type": "display_data"
    }
   ],
   "source": [
    "# Exibindo amostra aleatória de 1% do conteúdo do df\n",
    "dfs_spark[0].sample(fraction=0.01).display()"
   ]
  },
  {
   "cell_type": "markdown",
   "metadata": {
    "application/vnd.databricks.v1+cell": {
     "cellMetadata": {},
     "inputWidgets": {},
     "nuid": "ee7b9d7e-2967-4d95-8be9-f3fda878c6d4",
     "showTitle": false,
     "tableResultSettingsMap": {},
     "title": ""
    }
   },
   "source": [
    "## 1. Análise do Faturamento\n",
    "\n",
    "Nesta primeira análise, calcularemos o faturamento total de cada loja. Somando os valores da coluna Preço de cada loja para estimar o faturamento."
   ]
  },
  {
   "cell_type": "code",
   "execution_count": 0,
   "metadata": {
    "application/vnd.databricks.v1+cell": {
     "cellMetadata": {
      "byteLimit": 2048000,
      "rowLimit": 10000
     },
     "inputWidgets": {},
     "nuid": "a73d2e55-7346-44cb-a7a6-b791d960e1d3",
     "showTitle": false,
     "tableResultSettingsMap": {},
     "title": ""
    }
   },
   "outputs": [],
   "source": [
    "# Faz a soma dos valores da preço em todos os dfs e armazena em um numpy.array\n",
    "faturamento_bruto_loja =  np.array([df.select(sum('Preço')).collect()[0][0] for df in dfs_spark])\n",
    "# Soma do faturamento das 4 lojas\n",
    "faturamento_bruto_loja_total = np.sum(faturamento_bruto_loja)\n",
    "# Soma do custo com frete das lojas,\n",
    "custo_frete_loja = np.array(([df.select(sum('Frete')).collect()[0][0] for df in dfs_spark]))\n",
    "# Soma do custo com frete total\n",
    "custo_frete_total = np.sum(custo_frete_loja)\n",
    "\n",
    "# Faturamento deduzido custo com frete por loja\n",
    "faturamento_menos_custo_frete_total = faturamento_bruto_loja_total - custo_frete_total\n",
    "# Faturamento deduzido custo com frete total\n",
    "faturamento_menos_custo_frete_loja = faturamento_bruto_loja - custo_frete_loja\n"
   ]
  },
  {
   "cell_type": "markdown",
   "metadata": {
    "application/vnd.databricks.v1+cell": {
     "cellMetadata": {},
     "inputWidgets": {},
     "nuid": "2000facb-8afa-40e3-b9a9-51fe2d23c26b",
     "showTitle": false,
     "tableResultSettingsMap": {},
     "title": ""
    }
   },
   "source": [
    "## Plote Faturamento Bruto"
   ]
  },
  {
   "cell_type": "code",
   "execution_count": 0,
   "metadata": {
    "application/vnd.databricks.v1+cell": {
     "cellMetadata": {
      "byteLimit": 2048000,
      "rowLimit": 10000
     },
     "inputWidgets": {},
     "nuid": "6c4537b3-d723-4aca-bf3d-2cf469d4c3e6",
     "showTitle": false,
     "tableResultSettingsMap": {},
     "title": ""
    }
   },
   "outputs": [
    {
     "output_type": "display_data",
     "data": {
      "image/png": "[encoded data removed]",
      "text/plain": [
       "<Figure size 800x500 with 1 Axes>"
      ]
     },
     "metadata": {},
     "output_type": "display_data"
    }
   ],
   "source": [
    "plt.figure(figsize=(8, 5))\n",
    "bars = plt.bar(stores_name, faturamento_bruto_loja, color=['blue', 'green', 'red', 'purple'])\n",
    "\n",
    "# Adicionar valores acima das colunas\n",
    "for bar in bars:\n",
    "    plt.text(bar.get_x() + bar.get_width()/2, bar.get_height(), f'R$ {bar.get_height():,.0f}'.replace(\",\", \".\"), \n",
    "             ha='center', va='bottom', fontsize=12, fontweight='bold', color='black')\n",
    "# Adicionar título e rótulos\n",
    "plt.ylim(0, max(faturamento_bruto_loja) * 1.2)  # Ajusta o limite superior do eixo Y\n",
    "\n",
    "plt.title(\"Faturamento Bruto de cada Loja\")\n",
    "plt.xlabel(\"Loja\")\n",
    "plt.ylabel(\"Faturamento\")\n",
    "plt.grid(axis=\"y\", linestyle=\"--\", alpha=0.7)\n",
    "\n",
    "# Mostrar o gráfico\n",
    "plt.show()"
   ]
  },
  {
   "cell_type": "markdown",
   "metadata": {
    "application/vnd.databricks.v1+cell": {
     "cellMetadata": {},
     "inputWidgets": {},
     "nuid": "df68f7d3-2868-4118-98ad-67f28dd1be83",
     "showTitle": false,
     "tableResultSettingsMap": {},
     "title": ""
    }
   },
   "source": [
    "Plote Faturamento menos o frete"
   ]
  },
  {
   "cell_type": "code",
   "execution_count": 0,
   "metadata": {
    "application/vnd.databricks.v1+cell": {
     "cellMetadata": {
      "byteLimit": 2048000,
      "rowLimit": 10000
     },
     "inputWidgets": {},
     "nuid": "ef8ef917-26ad-4996-9a81-09bca686aabd",
     "showTitle": false,
     "tableResultSettingsMap": {},
     "title": ""
    }
   },
   "outputs": [
    {
     "output_type": "display_data",
     "data": {
      "image/png": "[encoded data removed]",
      "text/plain": [
       "<Figure size 800x500 with 1 Axes>"
      ]
     },
     "metadata": {},
     "output_type": "display_data"
    }
   ],
   "source": [
    "# Crir plote\n",
    "plt.figure(figsize=(8, 5))\n",
    "bars = plt.bar(stores_name, faturamento_menos_custo_frete_loja, color=['blue', 'green', 'red', 'purple'])\n",
    "\n",
    "# Adicionar valores acima das colunas\n",
    "for bar in bars:\n",
    "    plt.text(bar.get_x() + bar.get_width()/2, bar.get_height(), f'R${bar.get_height():,.0f}'.replace(\",\", \".\"), \n",
    "             ha='center', va='bottom', fontsize=12, fontweight='bold', color='black')\n",
    "# Adicionar título e rótulos\n",
    "plt.ylim(0, max(faturamento_menos_custo_frete_loja) * 1.2)  # Ajusta o limite superior do eixo Y\n",
    "\n",
    "plt.title(\"Faturamento menos o frete de cada Loja\")\n",
    "plt.xlabel(\"Loja\")\n",
    "plt.ylabel(\"Faturamento\")\n",
    "plt.grid(axis=\"y\", linestyle=\"--\", alpha=0.7)\n",
    "\n",
    "# Mostrar o gráfico\n",
    "plt.show()"
   ]
  },
  {
   "cell_type": "markdown",
   "metadata": {
    "application/vnd.databricks.v1+cell": {
     "cellMetadata": {},
     "inputWidgets": {},
     "nuid": "d8ce4cd0-b304-4458-ba71-bf79f6e9d167",
     "showTitle": false,
     "tableResultSettingsMap": {},
     "title": ""
    }
   },
   "source": [
    "## 2. Vendas por Categoria\n",
    "\n",
    "\n",
    "Neste passo, deve calcular a quantidade de produtos vendidos por categoria em cada loja. A ideia é agrupar os dados por categoria e contar o número de vendas de cada tipo, mostrando as categoria mais populares de cada loja"
   ]
  },
  {
   "cell_type": "code",
   "execution_count": 0,
   "metadata": {
    "application/vnd.databricks.v1+cell": {
     "cellMetadata": {
      "byteLimit": 2048000,
      "rowLimit": 10000
     },
     "inputWidgets": {},
     "nuid": "a24d6588-c604-4881-bb46-dcc0dbd26d77",
     "showTitle": false,
     "tableResultSettingsMap": {},
     "title": ""
    }
   },
   "outputs": [],
   "source": [
    "# Criado uma listas onde cada item é um df com a contagem das categorias de produtos vendidos em ordem do maior para o menor.\n",
    "vendas_categoria = [df.groupBy(\"Categoria do Produto\").count().orderBy(\"count\", ascending=False) for df in dfs_spark]\n",
    "\n",
    "# convertendo o df para pandas para faciliar a integração das tabelas\n",
    "vendas_categoria_p = [vendas_categoria[i].toPandas() for i in range(len(vendas_categoria))]\n",
    "\n",
    "# Concatenando as tabelas, mantendo a coluna categoria da loja_1 e a quantidade das restantes.\n",
    "df_categorias_vendas = pd.concat(vendas_categoria_p, axis=1)\n",
    "\n",
    "lojas = ['Loja1', 'quantidade_1', 'Loja2', 'quantidade_2', 'Loja3', 'quantidade_3', 'Loja4', 'quantidade_4',]\n",
    "df_categorias_vendas.columns = lojas\n",
    "\n",
    "# Voltando a tabela concatenada para spark\n",
    "spark_categoria_vendas = spark.createDataFrame(df_categorias_vendas)\n",
    "categoria_vendas = spark_categoria_vendas.select('Loja1', 'quantidade_1', 'quantidade_2','quantidade_3','quantidade_4')\n",
    "\n",
    "# Renomeando colunas\n",
    "old_cols = categoria_vendas.columns\n",
    "new_cols = ['categoria', 'loja_1','loja_2','loja_3','loja_4']\n",
    "rename_cols = {key: value for key, value in zip(old_cols, new_cols)}\n",
    "\n",
    "for old, new in rename_cols.items():\n",
    "    categoria_vendas = categoria_vendas.withColumnRenamed(old, new)"
   ]
  },
  {
   "cell_type": "code",
   "execution_count": 0,
   "metadata": {
    "application/vnd.databricks.v1+cell": {
     "cellMetadata": {
      "byteLimit": 2048000,
      "rowLimit": 10000
     },
     "inputWidgets": {},
     "nuid": "eae82280-a48b-44b9-b3cb-ae6b1fb37782",
     "showTitle": false,
     "tableResultSettingsMap": {},
     "title": ""
    }
   },
   "outputs": [
    {
     "output_type": "display_data",
     "data": {
      "text/html": [
       "<style scoped>\n",
       "  .table-result-container {\n",
       "    max-height: 300px;\n",
       "    overflow: auto;\n",
       "  }\n",
       "  table, th, td {\n",
       "    border: 1px solid black;\n",
       "    border-collapse: collapse;\n",
       "  }\n",
       "  th, td {\n",
       "    padding: 5px;\n",
       "  }\n",
       "  th {\n",
       "    text-align: left;\n",
       "  }\n",
       "</style><div class='table-result-container'><table class='table-result'><thead style='background-color: white'><tr><th>categoria</th><th>loja_1</th><th>loja_2</th><th>loja_3</th><th>loja_4</th></tr></thead><tbody><tr><td>moveis</td><td>465</td><td>442</td><td>499</td><td>480</td></tr><tr><td>eletronicos</td><td>448</td><td>422</td><td>451</td><td>451</td></tr><tr><td>brinquedos</td><td>324</td><td>313</td><td>315</td><td>338</td></tr><tr><td>eletrodomesticos</td><td>312</td><td>305</td><td>278</td><td>277</td></tr><tr><td>esporte e lazer</td><td>284</td><td>275</td><td>277</td><td>254</td></tr><tr><td>instrumentos musicais</td><td>182</td><td>224</td><td>185</td><td>201</td></tr><tr><td>livros</td><td>173</td><td>197</td><td>177</td><td>187</td></tr><tr><td>utilidades domesticas</td><td>171</td><td>181</td><td>177</td><td>170</td></tr></tbody></table></div>"
      ]
     },
     "metadata": {
      "application/vnd.databricks.v1+output": {
       "addedWidgets": {},
       "aggData": [],
       "aggError": "",
       "aggOverflow": false,
       "aggSchema": [],
       "aggSeriesLimitReached": false,
       "aggType": "",
       "arguments": {},
       "columnCustomDisplayInfos": {},
       "data": [
        [
         "moveis",
         465,
         442,
         499,
         480
        ],
        [
         "eletronicos",
         448,
         422,
         451,
         451
        ],
        [
         "brinquedos",
         324,
         313,
         315,
         338
        ],
        [
         "eletrodomesticos",
         312,
         305,
         278,
         277
        ],
        [
         "esporte e lazer",
         284,
         275,
         277,
         254
        ],
        [
         "instrumentos musicais",
         182,
         224,
         185,
         201
        ],
        [
         "livros",
         173,
         197,
         177,
         187
        ],
        [
         "utilidades domesticas",
         171,
         181,
         177,
         170
        ]
       ],
       "datasetInfos": [],
       "dbfsResultPath": null,
       "isJsonSchema": true,
       "metadata": {},
       "overflow": false,
       "plotOptions": {
        "customPlotOptions": {},
        "displayType": "table",
        "pivotAggregation": null,
        "pivotColumns": null,
        "xColumns": null,
        "yColumns": null
       },
       "removedWidgets": [],
       "schema": [
        {
         "metadata": "{}",
         "name": "categoria",
         "type": "\"string\""
        },
        {
         "metadata": "{}",
         "name": "loja_1",
         "type": "\"long\""
        },
        {
         "metadata": "{}",
         "name": "loja_2",
         "type": "\"long\""
        },
        {
         "metadata": "{}",
         "name": "loja_3",
         "type": "\"long\""
        },
        {
         "metadata": "{}",
         "name": "loja_4",
         "type": "\"long\""
        }
       ],
       "type": "table"
      }
     },
     "output_type": "display_data"
    }
   ],
   "source": [
    "# Amostra de como ficou o df concatenado\n",
    "categoria_vendas.display()"
   ]
  },
  {
   "cell_type": "code",
   "execution_count": 0,
   "metadata": {
    "application/vnd.databricks.v1+cell": {
     "cellMetadata": {
      "byteLimit": 2048000,
      "rowLimit": 10000
     },
     "inputWidgets": {},
     "nuid": "acc3cdcc-82ab-4573-9b03-4a05a3e00f04",
     "showTitle": false,
     "tableResultSettingsMap": {},
     "title": ""
    }
   },
   "outputs": [
    {
     "output_type": "display_data",
     "data": {
      "image/png": "[encoded data removed]",
      "text/plain": [
       "<Figure size 1200x600 with 1 Axes>"
      ]
     },
     "metadata": {},
     "output_type": "display_data"
    }
   ],
   "source": [
    "plotar = categoria_vendas.toPandas()\n",
    "\n",
    "# Plot\n",
    "categorias = plotar['categoria'].tolist()\n",
    "x = np.arange(len(categorias))  # posição das categorias\n",
    "largura = 0.2  # largura das barras\n",
    "\n",
    "fig, ax = plt.subplots(figsize=(12, 6))\n",
    "\n",
    "# Barras para cada loja\n",
    "ax.bar(x - 1.5*largura, plotar['loja_1'], width=largura, label='Loja 1')\n",
    "ax.bar(x - 0.5*largura, plotar['loja_2'], width=largura, label='Loja 2')\n",
    "ax.bar(x + 0.5*largura, plotar['loja_3'], width=largura, label='Loja 3')\n",
    "ax.bar(x + 1.5*largura, plotar['loja_4'], width=largura, label='Loja 4')\n",
    "\n",
    "# Adicionar valores acima das colunas\n",
    "for i, loja in enumerate([\"loja_1\", \"loja_2\", \"loja_3\", \"loja_4\"]):\n",
    "    for bar in ax.containers[i]:\n",
    "        ax.text(\n",
    "            bar.get_x() + bar.get_width() / 2,  # Posição X\n",
    "            bar.get_height(),  # Posição Y\n",
    "            f\"{bar.get_height():,.0f}\".replace(\",\", \".\"),  # Formatação do número\n",
    "            ha=\"center\", va=\"bottom\", fontsize=8, color=\"black\"\n",
    "        )\n",
    "\n",
    "# Labels\n",
    "ax.set_xticks(x)\n",
    "ax.set_xticklabels(categorias, rotation=45, ha='right')\n",
    "ax.set_ylabel('Quantidade de Vendas')\n",
    "ax.set_title('Vendas por Categoria em Cada Loja')\n",
    "ax.legend()\n",
    "\n",
    "plt.tight_layout()\n",
    "plt.show()\n"
   ]
  },
  {
   "cell_type": "code",
   "execution_count": 0,
   "metadata": {
    "application/vnd.databricks.v1+cell": {
     "cellMetadata": {},
     "inputWidgets": {},
     "nuid": "bd1b59d3-81ef-4904-ada4-3d50d65c5d1d",
     "showTitle": false,
     "tableResultSettingsMap": {},
     "title": ""
    }
   },
   "outputs": [],
   "source": []
  },
  {
   "cell_type": "markdown",
   "metadata": {
    "application/vnd.databricks.v1+cell": {
     "cellMetadata": {},
     "inputWidgets": {},
     "nuid": "8458720a-8707-4d08-b7df-b0da6a7d9053",
     "showTitle": false,
     "tableResultSettingsMap": {},
     "title": ""
    }
   },
   "source": [
    "## 3. Média de Avaliação das Lojas\n",
    "\n",
    "\n",
    "Neste passo, calcularemos a média das avaliações dos clientes para cada loja. O objetivo é entender a satisfação dos clientes com os produtos vendidos."
   ]
  },
  {
   "cell_type": "markdown",
   "metadata": {
    "application/vnd.databricks.v1+cell": {
     "cellMetadata": {},
     "inputWidgets": {},
     "nuid": "772b6a17-8720-44ea-bfa1-0050bfd75b49",
     "showTitle": false,
     "tableResultSettingsMap": {},
     "title": ""
    }
   },
   "source": [
    "\n",
    "No contexto de avaliação onde temos um sistema de pontuação que vai de 1 - ruim, a 5 - ótimo, como cada ponto tem um peso diferente, a melhor forma de calcular a média de avaliação é utilizando a fórmula da média ponderada.\n",
    "\n",
    "![media_ponderada]('/dbfs/FileStore/tables/raw/mediaponderada.png')"
   ]
  },
  {
   "cell_type": "code",
   "execution_count": 0,
   "metadata": {
    "application/vnd.databricks.v1+cell": {
     "cellMetadata": {
      "byteLimit": 2048000,
      "rowLimit": 10000
     },
     "inputWidgets": {},
     "nuid": "7c04db33-c85d-482e-beeb-b6453df9217a",
     "showTitle": false,
     "tableResultSettingsMap": {},
     "title": ""
    }
   },
   "outputs": [],
   "source": [
    "#lista de dfs da coluna de avaliação com contagem de valores em ordem do maior para o menor\n",
    "lista_avaliacao = [df.groupBy(\"Avaliação da compra\").count().orderBy(\"count\", ascending=False) for df in dfs_spark]\n",
    "\n",
    "#renomeando as colunas count para facilitar no agrupamento das tabelas\n",
    "for i, df in enumerate(lista_avaliacao):\n",
    "    lista_avaliacao[i] = df.withColumnRenamed('count', f'loja_{i+1}')\n",
    "\n",
    "#convertendo a lista de dfs spark em pandas\n",
    "lista_avaliacao_pandas = [lista_avaliacao[i].toPandas() for i in range(len(vendas_categoria))]\n",
    "\n",
    "# juntando os dfs pandas com merge\n",
    "df_avaliacao_pandas = lista_avaliacao_pandas[0].merge(lista_avaliacao_pandas[1], on='Avaliação da compra')\\\n",
    "    .merge(lista_avaliacao_pandas[2], on='Avaliação da compra')\\\n",
    "    .merge(lista_avaliacao_pandas[3], on='Avaliação da compra')\n",
    "\n",
    "# convertendo o df mergeado para spark\n",
    "df_avaliacao_spark = spark.createDataFrame(df_avaliacao_pandas).orderBy('Avaliação da compra')"
   ]
  },
  {
   "cell_type": "code",
   "execution_count": 0,
   "metadata": {
    "application/vnd.databricks.v1+cell": {
     "cellMetadata": {
      "byteLimit": 2048000,
      "rowLimit": 10000
     },
     "inputWidgets": {},
     "nuid": "9fe22b30-47e9-4188-a77e-820a30ee1ac9",
     "showTitle": false,
     "tableResultSettingsMap": {},
     "title": ""
    }
   },
   "outputs": [
    {
     "output_type": "stream",
     "name": "stdout",
     "output_type": "stream",
     "text": [
      "+-------------------+------+------+------+------+\n|Avaliação da compra|loja_1|loja_2|loja_3|loja_4|\n+-------------------+------+------+------+------+\n|                  1|   319|   273|   297|   310|\n|                  2|    86|    93|    79|    85|\n|                  3|   218|   209|   193|   210|\n|                  4|   444|   482|   434|   453|\n|                  5|  1292|  1302|  1356|  1300|\n+-------------------+------+------+------+------+\n\n"
     ]
    }
   ],
   "source": [
    "df_avaliacao_spark.show()"
   ]
  },
  {
   "cell_type": "code",
   "execution_count": 0,
   "metadata": {
    "application/vnd.databricks.v1+cell": {
     "cellMetadata": {
      "byteLimit": 2048000,
      "rowLimit": 10000
     },
     "inputWidgets": {},
     "nuid": "49334324-cc17-46a2-8916-67975a199d86",
     "showTitle": false,
     "tableResultSettingsMap": {},
     "title": ""
    }
   },
   "outputs": [],
   "source": [
    "nomes_lojas = [\"loja_1\", \"loja_2\", \"loja_3\", \"loja_4\"]\n",
    "media_ponderada_lojas = [df_avaliacao_spark.select(\n",
    "        (sum(col(\"Avaliação da compra\") * col(loja)) / sum(col(loja))).alias(f\"media_{loja}\")\n",
    "    ).collect()[0][f\"media_{loja}\"] for loja in nomes_lojas]\n",
    "\n",
    "media_geral_todas = np.sum(media_ponderada)"
   ]
  },
  {
   "cell_type": "markdown",
   "metadata": {
    "application/vnd.databricks.v1+cell": {
     "cellMetadata": {},
     "inputWidgets": {},
     "nuid": "1602f507-de57-4131-95e8-13bf3ba3a844",
     "showTitle": false,
     "tableResultSettingsMap": {},
     "title": ""
    }
   },
   "source": [
    "### Plot da média ponderada por loja"
   ]
  },
  {
   "cell_type": "code",
   "execution_count": 0,
   "metadata": {
    "application/vnd.databricks.v1+cell": {
     "cellMetadata": {
      "byteLimit": 2048000,
      "rowLimit": 10000
     },
     "inputWidgets": {},
     "nuid": "7a783720-475a-44e0-8531-e536da1ed971",
     "showTitle": false,
     "tableResultSettingsMap": {},
     "title": ""
    }
   },
   "outputs": [
    {
     "output_type": "display_data",
     "data": {
      "image/png": "[encoded data removed]",
      "text/plain": [
       "<Figure size 800x500 with 1 Axes>"
      ]
     },
     "metadata": {},
     "output_type": "display_data"
    }
   ],
   "source": [
    "plt.figure(figsize=(8,5))\n",
    "plt.bar(nomes_lojas, media_ponderada_lojas, color=['blue', 'green', 'red', 'purple'])\n",
    "plt.xlabel('Lojas')\n",
    "plt.ylabel(\"Pontos\")\n",
    "plt.title(\"Media ponderada por Loja\")\n",
    "plt.ylim(min(media_ponderada_lojas) * 0.9, max(media_ponderada_lojas) * 1.1) \n",
    "for i, v in enumerate(media_ponderada_lojas):\n",
    "    plt.text(i, v, f'{v:.2f}', ha='center', fontsize=12)\n",
    "plt.show()"
   ]
  },
  {
   "cell_type": "markdown",
   "metadata": {
    "application/vnd.databricks.v1+cell": {
     "cellMetadata": {},
     "inputWidgets": {},
     "nuid": "0a1ce869-4148-45ca-9bf7-a230684cec53",
     "showTitle": false,
     "tableResultSettingsMap": {},
     "title": ""
    }
   },
   "source": [
    "### Plot da quantidade de avaliações por pontos em cada Loja"
   ]
  },
  {
   "cell_type": "code",
   "execution_count": 0,
   "metadata": {
    "application/vnd.databricks.v1+cell": {
     "cellMetadata": {
      "byteLimit": 2048000,
      "rowLimit": 10000
     },
     "inputWidgets": {},
     "nuid": "2afa1166-12bc-4c46-9f34-39cf538663d9",
     "showTitle": false,
     "tableResultSettingsMap": {},
     "title": ""
    }
   },
   "outputs": [
    {
     "output_type": "display_data",
     "data": {
      "image/png": "[encoded data removed]",
      "text/plain": [
       "<Figure size 1200x600 with 1 Axes>"
      ]
     },
     "metadata": {},
     "output_type": "display_data"
    }
   ],
   "source": [
    "\n",
    "# Gerando o plot\n",
    "estrelas = df_avaliacao_pandas['Avaliação da compra'].tolist()\n",
    "x = np.arange(len(estrelas))  # posição das categorias\n",
    "largura = 0.2  # largura das barras\n",
    "\n",
    "fig, ax = plt.subplots(figsize=(12, 6))\n",
    "\n",
    "# Barras para cada loja\n",
    "ax.bar(x - 1.5*largura, df_avaliacao_pandas['loja_1'], width=largura, label='Loja 1')\n",
    "ax.bar(x - 0.5*largura, df_avaliacao_pandas['loja_2'], width=largura, label='Loja 2')\n",
    "ax.bar(x + 0.5*largura, df_avaliacao_pandas['loja_3'], width=largura, label='Loja 3')\n",
    "ax.bar(x + 1.5*largura, df_avaliacao_pandas['loja_4'], width=largura, label='Loja 4')\n",
    "\n",
    "# Labels\n",
    "ax.set_xticks(x)\n",
    "ax.set_xticklabels(estrelas, ha='right', fontsize=12,fontweight='bold')\n",
    "ax.set_ylabel('Quantidade de Pontos')\n",
    "ax.set_title('Pontos em Cada Loja')\n",
    "ax.legend()\n",
    "\n",
    "plt.tight_layout()\n",
    "plt.show()"
   ]
  },
  {
   "cell_type": "code",
   "execution_count": 0,
   "metadata": {
    "application/vnd.databricks.v1+cell": {
     "cellMetadata": {
      "byteLimit": 2048000,
      "rowLimit": 10000
     },
     "inputWidgets": {},
     "nuid": "f1f700e1-0137-461e-be30-0a2e19f7a531",
     "showTitle": false,
     "tableResultSettingsMap": {},
     "title": ""
    }
   },
   "outputs": [
    {
     "output_type": "display_data",
     "data": {
      "text/html": [
       "<style scoped>\n",
       "  .table-result-container {\n",
       "    max-height: 300px;\n",
       "    overflow: auto;\n",
       "  }\n",
       "  table, th, td {\n",
       "    border: 1px solid black;\n",
       "    border-collapse: collapse;\n",
       "  }\n",
       "  th, td {\n",
       "    padding: 5px;\n",
       "  }\n",
       "  th {\n",
       "    text-align: left;\n",
       "  }\n",
       "</style><div class='table-result-container'><table class='table-result'><thead style='background-color: white'><tr><th>Avaliação da compra</th><th>loja_1</th><th>loja_2</th><th>loja_3</th><th>loja_4</th></tr></thead><tbody><tr><td>1</td><td>319</td><td>273</td><td>297</td><td>310</td></tr><tr><td>2</td><td>86</td><td>93</td><td>79</td><td>85</td></tr><tr><td>3</td><td>218</td><td>209</td><td>193</td><td>210</td></tr><tr><td>4</td><td>444</td><td>482</td><td>434</td><td>453</td></tr><tr><td>5</td><td>1292</td><td>1302</td><td>1356</td><td>1300</td></tr></tbody></table></div>"
      ]
     },
     "metadata": {
      "application/vnd.databricks.v1+output": {
       "addedWidgets": {},
       "aggData": [],
       "aggError": "",
       "aggOverflow": false,
       "aggSchema": [],
       "aggSeriesLimitReached": false,
       "aggType": "",
       "arguments": {},
       "columnCustomDisplayInfos": {},
       "data": [
        [
         1,
         319,
         273,
         297,
         310
        ],
        [
         2,
         86,
         93,
         79,
         85
        ],
        [
         3,
         218,
         209,
         193,
         210
        ],
        [
         4,
         444,
         482,
         434,
         453
        ],
        [
         5,
         1292,
         1302,
         1356,
         1300
        ]
       ],
       "datasetInfos": [],
       "dbfsResultPath": null,
       "isJsonSchema": true,
       "metadata": {},
       "overflow": false,
       "plotOptions": {
        "customPlotOptions": {},
        "displayType": "table",
        "pivotAggregation": null,
        "pivotColumns": null,
        "xColumns": null,
        "yColumns": null
       },
       "removedWidgets": [],
       "schema": [
        {
         "metadata": "{}",
         "name": "Avaliação da compra",
         "type": "\"long\""
        },
        {
         "metadata": "{}",
         "name": "loja_1",
         "type": "\"long\""
        },
        {
         "metadata": "{}",
         "name": "loja_2",
         "type": "\"long\""
        },
        {
         "metadata": "{}",
         "name": "loja_3",
         "type": "\"long\""
        },
        {
         "metadata": "{}",
         "name": "loja_4",
         "type": "\"long\""
        }
       ],
       "type": "table"
      }
     },
     "output_type": "display_data"
    }
   ],
   "source": [
    "df_avaliacao_spark.display()"
   ]
  },
  {
   "cell_type": "code",
   "execution_count": 0,
   "metadata": {
    "application/vnd.databricks.v1+cell": {
     "cellMetadata": {},
     "inputWidgets": {},
     "nuid": "94d954ab-557b-472c-802e-2f1e93a395e2",
     "showTitle": false,
     "tableResultSettingsMap": {},
     "title": ""
    }
   },
   "outputs": [],
   "source": []
  },
  {
   "cell_type": "markdown",
   "metadata": {
    "application/vnd.databricks.v1+cell": {
     "cellMetadata": {},
     "inputWidgets": {},
     "nuid": "51c2244b-6aca-483b-9208-69b62b1ebab5",
     "showTitle": false,
     "tableResultSettingsMap": {},
     "title": ""
    }
   },
   "source": [
    "## 4. Produtos Mais e Menos Vendidos\n",
    "\n",
    "Neste passo, deve identificar quais produtos foram os mais vendidos e os menos vendidos em cada loja.  Ao final, visualize os resultados de forma que fique claro quais produtos se destacaram nas vendas de cada loja.\n",
    "\n"
   ]
  },
  {
   "cell_type": "code",
   "execution_count": 0,
   "metadata": {
    "application/vnd.databricks.v1+cell": {
     "cellMetadata": {
      "byteLimit": 2048000,
      "rowLimit": 10000
     },
     "inputWidgets": {},
     "nuid": "22558a00-457d-4ee1-bc5d-814321a49c94",
     "showTitle": false,
     "tableResultSettingsMap": {},
     "title": ""
    }
   },
   "outputs": [],
   "source": [
    "# 3 mais vendidos por loja\n",
    "produtos_mais_vendidos = [dfs_spark[i].groupBy('Produto').count().orderBy('count', ascending=False).limit(3) for i in range(len(dfs_spark))]\n",
    "\n",
    "# 3 menos vendidos por loja\n",
    "produtos_menos_vendidos = [dfs_spark[i].groupBy('Produto').count().orderBy('count').limit(3) for i in range(len(dfs_spark))]"
   ]
  },
  {
   "cell_type": "code",
   "execution_count": 0,
   "metadata": {
    "application/vnd.databricks.v1+cell": {
     "cellMetadata": {
      "byteLimit": 2048000,
      "rowLimit": 10000
     },
     "inputWidgets": {},
     "nuid": "e98c1107-f9fa-4024-8c07-e1d83c0fb344",
     "showTitle": false,
     "tableResultSettingsMap": {},
     "title": ""
    }
   },
   "outputs": [
    {
     "output_type": "stream",
     "name": "stdout",
     "output_type": "stream",
     "text": [
      "+-------------+-----+\n|      Produto|count|\n+-------------+-----+\n|TV Led UHD 4K|   60|\n|Guarda roupas|   60|\n|  Micro-ondas|   60|\n+-------------+-----+\n\n+--------------------+-----+\n|             Produto|count|\n+--------------------+-----+\n|Iniciando em prog...|   65|\n|         Micro-ondas|   62|\n|             Bateria|   61|\n+--------------------+-----+\n\n+--------------+-----+\n|       Produto|count|\n+--------------+-----+\n| Kit banquetas|   57|\n|     Cama king|   56|\n|Mesa de jantar|   56|\n+--------------+-----+\n\n+---------+-----+\n|  Produto|count|\n+---------+-----+\n| Cama box|   62|\n| Faqueiro|   59|\n|Cama king|   56|\n+---------+-----+\n\n"
     ]
    }
   ],
   "source": [
    "for i in range(len(produtos_mais_vendidos)):\n",
    "    produtos_mais_vendidos[i].show()"
   ]
  },
  {
   "cell_type": "code",
   "execution_count": 0,
   "metadata": {
    "application/vnd.databricks.v1+cell": {
     "cellMetadata": {},
     "inputWidgets": {},
     "nuid": "08c1d1bb-ff80-48b3-9e85-332b50e6c4b1",
     "showTitle": false,
     "tableResultSettingsMap": {},
     "title": ""
    }
   },
   "outputs": [],
   "source": []
  },
  {
   "cell_type": "markdown",
   "metadata": {
    "application/vnd.databricks.v1+cell": {
     "cellMetadata": {},
     "inputWidgets": {},
     "nuid": "a06ebe55-9b86-452e-94d3-2019e1dd2caf",
     "showTitle": false,
     "tableResultSettingsMap": {},
     "title": ""
    }
   },
   "source": [
    "### 5. Frete Médio por Loja\n",
    "\n",
    "Neste passo, vamos calcular o custo médio de frete para cada loja. O objetivo é entender quanto, em média, está sendo gasto com frete para cada uma das lojas."
   ]
  },
  {
   "cell_type": "code",
   "execution_count": 0,
   "metadata": {
    "application/vnd.databricks.v1+cell": {
     "cellMetadata": {
      "byteLimit": 2048000,
      "rowLimit": 10000
     },
     "inputWidgets": {},
     "nuid": "c8fce0fe-21a6-4d35-889e-cffec388108e",
     "showTitle": false,
     "tableResultSettingsMap": {},
     "title": ""
    }
   },
   "outputs": [
    {
     "output_type": "display_data",
     "data": {
      "text/html": [
       "<style scoped>\n",
       "  .table-result-container {\n",
       "    max-height: 300px;\n",
       "    overflow: auto;\n",
       "  }\n",
       "  table, th, td {\n",
       "    border: 1px solid black;\n",
       "    border-collapse: collapse;\n",
       "  }\n",
       "  th, td {\n",
       "    padding: 5px;\n",
       "  }\n",
       "  th {\n",
       "    text-align: left;\n",
       "  }\n",
       "</style><div class='table-result-container'><table class='table-result'><thead style='background-color: white'><tr><th>Produto</th><th>Categoria do Produto</th><th>Preço</th><th>Frete</th><th>Data da Compra</th><th>Vendedor</th><th>Local da compra</th><th>Avaliação da compra</th><th>Tipo de pagamento</th><th>Quantidade de parcelas</th><th>lat</th><th>lon</th></tr></thead><tbody><tr><td>Assistente virtual</td><td>eletronicos</td><td>219.08</td><td>9.2497899853</td><td>16/01/2021</td><td>Pedro Gomes</td><td>SP</td><td>4</td><td>cartao_credito</td><td>8</td><td>-22.19</td><td>-48.79</td></tr><tr><td>Mesa de jantar</td><td>moveis</td><td>256.35</td><td>11.2343053621</td><td>18/05/2022</td><td>Beatriz Moraes</td><td>RJ</td><td>1</td><td>cartao_credito</td><td>4</td><td>-22.25</td><td>-42.66</td></tr><tr><td>Jogo de tabuleiro</td><td>brinquedos</td><td>279.51</td><td>21.2626809863</td><td>15/03/2021</td><td>João Souza</td><td>DF</td><td>1</td><td>cartao_credito</td><td>1</td><td>-15.83</td><td>-47.86</td></tr></tbody></table></div>"
      ]
     },
     "metadata": {
      "application/vnd.databricks.v1+output": {
       "addedWidgets": {},
       "aggData": [],
       "aggError": "",
       "aggOverflow": false,
       "aggSchema": [],
       "aggSeriesLimitReached": false,
       "aggType": "",
       "arguments": {},
       "columnCustomDisplayInfos": {},
       "data": [
        [
         "Assistente virtual",
         "eletronicos",
         219.08,
         9.2497899853,
         "16/01/2021",
         "Pedro Gomes",
         "SP",
         4,
         "cartao_credito",
         8,
         -22.19,
         -48.79
        ],
        [
         "Mesa de jantar",
         "moveis",
         256.35,
         11.2343053621,
         "18/05/2022",
         "Beatriz Moraes",
         "RJ",
         1,
         "cartao_credito",
         4,
         -22.25,
         -42.66
        ],
        [
         "Jogo de tabuleiro",
         "brinquedos",
         279.51,
         21.2626809863,
         "15/03/2021",
         "João Souza",
         "DF",
         1,
         "cartao_credito",
         1,
         -15.83,
         -47.86
        ]
       ],
       "datasetInfos": [],
       "dbfsResultPath": null,
       "isJsonSchema": true,
       "metadata": {},
       "overflow": false,
       "plotOptions": {
        "customPlotOptions": {},
        "displayType": "table",
        "pivotAggregation": null,
        "pivotColumns": null,
        "xColumns": null,
        "yColumns": null
       },
       "removedWidgets": [],
       "schema": [
        {
         "metadata": "{}",
         "name": "Produto",
         "type": "\"string\""
        },
        {
         "metadata": "{}",
         "name": "Categoria do Produto",
         "type": "\"string\""
        },
        {
         "metadata": "{}",
         "name": "Preço",
         "type": "\"double\""
        },
        {
         "metadata": "{}",
         "name": "Frete",
         "type": "\"double\""
        },
        {
         "metadata": "{}",
         "name": "Data da Compra",
         "type": "\"string\""
        },
        {
         "metadata": "{}",
         "name": "Vendedor",
         "type": "\"string\""
        },
        {
         "metadata": "{}",
         "name": "Local da compra",
         "type": "\"string\""
        },
        {
         "metadata": "{}",
         "name": "Avaliação da compra",
         "type": "\"long\""
        },
        {
         "metadata": "{}",
         "name": "Tipo de pagamento",
         "type": "\"string\""
        },
        {
         "metadata": "{}",
         "name": "Quantidade de parcelas",
         "type": "\"long\""
        },
        {
         "metadata": "{}",
         "name": "lat",
         "type": "\"double\""
        },
        {
         "metadata": "{}",
         "name": "lon",
         "type": "\"double\""
        }
       ],
       "type": "table"
      }
     },
     "output_type": "display_data"
    }
   ],
   "source": [
    "dfs_spark[0].limit(3).display()"
   ]
  },
  {
   "cell_type": "code",
   "execution_count": 0,
   "metadata": {
    "application/vnd.databricks.v1+cell": {
     "cellMetadata": {
      "byteLimit": 2048000,
      "rowLimit": 10000
     },
     "inputWidgets": {},
     "nuid": "7bdcc2cc-156e-409b-9701-cb917780de1d",
     "showTitle": false,
     "tableResultSettingsMap": {},
     "title": ""
    }
   },
   "outputs": [
    {
     "output_type": "execute_result",
     "data": {
      "text/plain": [
       "312930.6621499623"
      ]
     },
     "execution_count": 192,
     "metadata": {},
     "output_type": "execute_result"
    }
   ],
   "source": [
    "soma_frete_por_loja = [df.select(sum(col='Frete').alias('Total')).collect()[0]['Total'] for df in dfs_spark]\n",
    "soma_total_frete = np.sum(frete_por_loja)\n",
    "total_frete"
   ]
  },
  {
   "cell_type": "code",
   "execution_count": 0,
   "metadata": {
    "application/vnd.databricks.v1+cell": {
     "cellMetadata": {
      "byteLimit": 2048000,
      "rowLimit": 10000
     },
     "inputWidgets": {},
     "nuid": "e4a4176d-c1af-4ff1-9a7d-8b176511ce71",
     "showTitle": false,
     "tableResultSettingsMap": {},
     "title": ""
    }
   },
   "outputs": [
    {
     "output_type": "display_data",
     "data": {
      "image/png": "[encoded data removed]",
      "text/plain": [
       "<Figure size 600x600 with 1 Axes>"
      ]
     },
     "metadata": {},
     "output_type": "display_data"
    }
   ],
   "source": [
    "# Calcular os percentuais\n",
    "percentuais = [frete / soma_total_frete * 100 for frete in soma_frete_por_loja]\n",
    "\n",
    "# Criar rótulos com os percentuais\n",
    "labels = [f\"Loja {i+1} ({percentuais[i]:.1f}%)\" for i in range(len(frete_por_loja))]\n",
    "\n",
    "# Criar o gráfico de pizza\n",
    "plt.figure(figsize=(6, 6))\n",
    "plt.pie(soma_frete_por_loja, labels=labels, autopct=\"%.1f%%\", colors=[\"blue\", \"green\", \"red\", \"purple\"], startangle=90)\n",
    "\n",
    "# Adicionar título\n",
    "plt.title(\"Distribuição Percentual dos gastos com frete por Loja\")\n",
    "\n",
    "# Exibir o gráfico\n",
    "plt.show()"
   ]
  },
  {
   "cell_type": "code",
   "execution_count": 0,
   "metadata": {
    "application/vnd.databricks.v1+cell": {
     "cellMetadata": {
      "byteLimit": 2048000,
      "rowLimit": 10000
     },
     "inputWidgets": {},
     "nuid": "2eeea106-dd4e-41cb-9963-82cc7cb8cd8a",
     "showTitle": false,
     "tableResultSettingsMap": {},
     "title": ""
    }
   },
   "outputs": [],
   "source": [
    "valor_medio_frete_loja = [df.select(avg('Frete')).collect()[0][0] for df in dfs_spark]"
   ]
  },
  {
   "cell_type": "code",
   "execution_count": 0,
   "metadata": {
    "application/vnd.databricks.v1+cell": {
     "cellMetadata": {
      "byteLimit": 2048000,
      "rowLimit": 10000
     },
     "inputWidgets": {},
     "nuid": "9e9f7251-19d9-4cc5-9502-6fb788347cca",
     "showTitle": false,
     "tableResultSettingsMap": {},
     "title": ""
    }
   },
   "outputs": [
    {
     "output_type": "execute_result",
     "data": {
      "text/plain": [
       "[34.6918049155115, 33.62194065817928, 33.07446427411743, 31.27899708184172]"
      ]
     },
     "execution_count": 208,
     "metadata": {},
     "output_type": "execute_result"
    }
   ],
   "source": [
    "valor_medio_frete_loja"
   ]
  }
 ],
 "metadata": {
  "application/vnd.databricks.v1+notebook": {
   "computePreferences": null,
   "dashboards": [],
   "environmentMetadata": {
    "base_environment": "",
    "environment_version": "1"
   },
   "inputWidgetPreferences": null,
   "language": "python",
   "notebookMetadata": {
    "pythonIndentUnit": 4
   },
   "notebookName": "alura_store_challenger",
   "widgets": {}
  }
 },
 "nbformat": 4,
 "nbformat_minor": 0
}